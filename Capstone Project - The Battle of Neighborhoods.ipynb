{
 "cells": [
  {
   "cell_type": "markdown",
   "metadata": {
    "collapsed": true
   },
   "source": [
    "# Capstone Project - The Battle of Neighborhoods\n",
    "\n",
    "## Supporting the opening of a new italian restaurant in NYC with a data-driven approach\n",
    "\n",
    "### Question: Where would you locate the new activity, to have the best customer base in terms of size and quality avoiding high-level of competition?\n",
    "\n",
    "Mister X is going to open a new Italian Restaurant in NYC and he is really worried about the choice of the location. He decides to ask for a data driven approach to support his decision.\n",
    "Since I want to demonstrate my skills as data scientist, I decided to help him solving this problem. To do this, it is necessary to follow a step-by-step approach which could be divided in 2 phases:\n",
    "- **Top-down phase** - *from real problem to data analysis: note that this phase could be repeated in a loop until the business question is compatible with data availability*\n",
    "    - Problem Setting and Business Requirements: Definition of the question to be answered through data\n",
    "    - Data Assessment: Understanding of what data could be useful for answering the question\n",
    "    - Data Availability checks and Data Analysis design: Checking data availability and quality and definition of the technical steps for the solution.\n",
    "- **Bottom-down phase** - *from data analysis to real answers*:\n",
    "    - Data Analysis: Application of Data Science concepts and tools for the analysis of data\n",
    "    - Results Evaluation: Understanding of the results and choice of the final answer to the problem \n",
    "    - Story Telling: Collection of the best data visualization reports/dashboards and full description of the approach driving the answer. The final report has to be clear, precise and effective.\n",
    "    \n",
    "In the following sections, each phase will be explained in detail."
   ]
  },
  {
   "cell_type": "markdown",
   "metadata": {},
   "source": [
    "## Top-down phase\n",
    "\n",
    "### Problem setting\n",
    "Understanding the neighborhoods of NYC in terms of population and category of commercial activities, to define the best neighorhood to place an italian restaurant.\n",
    "The answer should find a neighborhood balancing the following principles:\n",
    "- Maximum number of Italian Restaurants: this ensures that in the neighborhood the italian cuisine is really appreciated\n",
    "- Highest average salary: this ensures that a lot of people would be able to spend their money in the restaurant\n",
    "- Highest size of population: this ensures that a lot of people could enter in the restaurant and talk about it around the city\n",
    "- Lowest average rate of Competitors: this ensures that the level of competition will be not so hard\n",
    "\n",
    "### Data Assessment\n",
    "For this problem we would need 2 groups of information:\n",
    "- Geographic data: information of latitude and longitude of neighborhoods\n",
    "- Demographic data: information of population size and average salary by neighborhood in NYC\n",
    "- Restaurants data: information of number, category and rates of the restaurants by neighborhoods in NYC\n",
    "\n",
    "### Data Availability\n",
    "I checked the availability of data and I have found 2 datasets which could satify my needings:\n",
    "- Geographic data: this is available in a JSON file of the course I am attending, through the link https://cf-courses-data.s3.us.cloud-object-storage.appdomain.cloud/IBMDeveloperSkillsNetwork-DS0701EN-SkillsNetwork/labs/newyork_data.json \n",
    "- Demographic data: https://www.kaggle.com/muonneutrino/new-york-city-census-data (Note that this data is about 2018, but we can make the hypothesis that in average the situation is quite stable 4 years after)\n",
    "- Restaurants data: we can extract them from Foursquare database https://foursquare.com/\n",
    "\n",
    "### Data Analysis Design\n",
    "The problem can be faced as a clustering problem, using the K-Means algorithm.\n",
    "We have to scrape data from Foursquare and upload the CSV with census data, merge them into a unique DataFrame and prepare the data for the model\n",
    "Could we define k clusters and classify them in terms of the 4 principle/variables defined in the first phase: Density of Italian Restaurants, Average Salary, Size of population, Average Rate of competitors.\n",
    "In this way we could give a clear knowledge to Mister X of the pros and cons of each area so that he can decide the neighborhood based on the trade-off between advantages and challenges."
   ]
  },
  {
   "cell_type": "code",
   "execution_count": null,
   "metadata": {},
   "outputs": [],
   "source": []
  }
 ],
 "metadata": {
  "kernelspec": {
   "display_name": "Python 3.7",
   "language": "python",
   "name": "python3"
  },
  "language_info": {
   "codemirror_mode": {
    "name": "ipython",
    "version": 3
   },
   "file_extension": ".py",
   "mimetype": "text/x-python",
   "name": "python",
   "nbconvert_exporter": "python",
   "pygments_lexer": "ipython3",
   "version": "3.7.10"
  }
 },
 "nbformat": 4,
 "nbformat_minor": 1
}
